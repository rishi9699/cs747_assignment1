{
 "cells": [
  {
   "cell_type": "code",
   "execution_count": 1,
   "id": "fd5b0e88",
   "metadata": {},
   "outputs": [],
   "source": [
    "import numpy as np\n",
    "import matplotlib.pyplot as plt"
   ]
  },
  {
   "cell_type": "code",
   "execution_count": 37,
   "id": "aaeddea0",
   "metadata": {},
   "outputs": [],
   "source": [
    "arms = [0.15, 0.23, 0.37, 0.44, 0.5, 0.32, 0.78, 0.21, 0.82, 0.56, 0.34, 0.56, 0.84, 0.76, 0.43, 0.65, 0.73, 0.92, 0.10, 0.89, 0.48, 0.96, 0.60, 0.54, 0.49]\n",
    "lenn=len(arms)\n",
    "epsilon = 0.02\n",
    "horizon = 102400"
   ]
  },
  {
   "cell_type": "code",
   "execution_count": null,
   "id": "f390e018",
   "metadata": {},
   "outputs": [],
   "source": [
    "np.arange"
   ]
  },
  {
   "cell_type": "markdown",
   "id": "f270473d",
   "metadata": {},
   "source": [
    "# $ \\epsilon $ - Greedy"
   ]
  },
  {
   "cell_type": "code",
   "execution_count": 38,
   "id": "b1ad09c4",
   "metadata": {},
   "outputs": [],
   "source": [
    "rng = np.random.default_rng(42)\n",
    "pulls_till_now = np.zeros(lenn, dtype='uint32')\n",
    "empirical_means = np.zeros(lenn)"
   ]
  },
  {
   "cell_type": "code",
   "execution_count": 39,
   "id": "2fe0c9a2",
   "metadata": {},
   "outputs": [],
   "source": [
    "i=1\n",
    "while i<=horizon:\n",
    "    if (rng.binomial(1, epsilon))==1:\n",
    "        arm_index = rng.integers(lenn)\n",
    "    else:\n",
    "        arm_index = np.argmax(empirical_means)\n",
    "    \n",
    "    empirical_means[arm_index] = (empirical_means[arm_index] * pulls_till_now[arm_index] + rng.binomial(1, arms[arm_index]))/(pulls_till_now[arm_index]+1)\n",
    "    pulls_till_now[arm_index]+=1\n",
    "    i+=1"
   ]
  },
  {
   "cell_type": "code",
   "execution_count": 43,
   "id": "963be3e3",
   "metadata": {},
   "outputs": [
    {
     "data": {
      "text/plain": [
       "1052.000000000029"
      ]
     },
     "execution_count": 43,
     "metadata": {},
     "output_type": "execute_result"
    }
   ],
   "source": [
    "0.96*102400 - sum(pulls_till_now*empirical_means)"
   ]
  },
  {
   "cell_type": "code",
   "execution_count": 42,
   "id": "f9100b60",
   "metadata": {},
   "outputs": [
    {
     "data": {
      "text/plain": [
       "0.96"
      ]
     },
     "execution_count": 42,
     "metadata": {},
     "output_type": "execute_result"
    }
   ],
   "source": [
    "max(arms)"
   ]
  },
  {
   "cell_type": "code",
   "execution_count": 33,
   "id": "c09776c5",
   "metadata": {},
   "outputs": [
    {
     "data": {
      "text/plain": [
       "array([0.38841406, 0.80116826])"
      ]
     },
     "execution_count": 33,
     "metadata": {},
     "output_type": "execute_result"
    }
   ],
   "source": [
    "empirical_means"
   ]
  },
  {
   "cell_type": "code",
   "execution_count": 13,
   "id": "de5941b4",
   "metadata": {},
   "outputs": [],
   "source": [
    "# in function form\n",
    "def ep_greeedy(arms, randomSeed, epsilon, horizon):\n",
    "    lenn=len(arms)\n",
    "    cumu_reward=np.zeros(horizon)\n",
    "    rng = np.random.default_rng(randomSeed)\n",
    "    pulls_till_now = np.zeros(lenn, dtype='uint32')\n",
    "    empirical_means = np.zeros(lenn)\n",
    "\n",
    "    i=0\n",
    "    while i<horizon:\n",
    "        if (rng.binomial(1, epsilon))==1:\n",
    "            arm_index = rng.integers(lenn)\n",
    "        else:\n",
    "            arm_index = np.argmax(empirical_means)\n",
    "            \n",
    "        curr_pull = rng.binomial(1, arms[arm_index])\n",
    "        cumu_reward[i]=cumu_reward[i-1]+curr_pull\n",
    "        empirical_means[arm_index] = (empirical_means[arm_index] * pulls_till_now[arm_index] + curr_pull)/(pulls_till_now[arm_index]+1)\n",
    "        pulls_till_now[arm_index]+=1\n",
    "        i+=1\n",
    "    print(empirical_means)\n",
    "    return cumu_reward"
   ]
  },
  {
   "cell_type": "markdown",
   "id": "f96cc98e",
   "metadata": {},
   "source": [
    "# UCB"
   ]
  },
  {
   "cell_type": "code",
   "execution_count": 44,
   "id": "377d41af",
   "metadata": {},
   "outputs": [
    {
     "data": {
      "text/plain": [
       "1936.0"
      ]
     },
     "execution_count": 44,
     "metadata": {},
     "output_type": "execute_result"
    }
   ],
   "source": [
    "arms = [0.15, 0.23, 0.37, 0.44, 0.5, 0.32, 0.78, 0.21, 0.82, 0.56, 0.34, 0.56, 0.84, 0.76, 0.43, 0.65, 0.73, 0.92, 0.10, 0.89, 0.48, 0.96, 0.60, 0.54, 0.49]\n",
    "lenn=len(arms)\n",
    "horizon = 102400\n",
    "tot_rew = 0\n",
    "curr_rew = 0\n",
    "rng = np.random.default_rng(42)\n",
    "empirical_means = np.zeros(lenn)\n",
    "\n",
    "i=0\n",
    "pulls_till_now = np.ones(lenn, dtype='uint32')\n",
    "while i<lenn:\n",
    "    curr_rew = rng.binomial(1, arms[i])\n",
    "    tot_rew += curr_rew\n",
    "    empirical_means[i] = curr_rew\n",
    "    i+=1\n",
    "    \n",
    "\n",
    "while i<horizon:\n",
    "    ucb = empirical_means + np.sqrt((2*np.log(i))/pulls_till_now)\n",
    "    arm_index = np.argmax(ucb)\n",
    "    curr_rew = rng.binomial(1, arms[arm_index])\n",
    "    tot_rew += curr_rew\n",
    "\n",
    "    empirical_means[arm_index] = (empirical_means[arm_index] * pulls_till_now[arm_index] + curr_rew)/(pulls_till_now[arm_index]+1)\n",
    "    pulls_till_now[arm_index]+=1\n",
    "\n",
    "    i+=1\n",
    "    \n",
    "(horizon * np.max(arms) - tot_rew)"
   ]
  },
  {
   "cell_type": "code",
   "execution_count": 13,
   "id": "758f8eae",
   "metadata": {},
   "outputs": [
    {
     "data": {
      "text/plain": [
       "array([102318,     82], dtype=uint32)"
      ]
     },
     "execution_count": 13,
     "metadata": {},
     "output_type": "execute_result"
    }
   ],
   "source": [
    "pulls_till_now"
   ]
  },
  {
   "cell_type": "code",
   "execution_count": 14,
   "id": "f4a57155",
   "metadata": {},
   "outputs": [
    {
     "data": {
      "text/plain": [
       "array([0.69924158, 0.18292683])"
      ]
     },
     "execution_count": 14,
     "metadata": {},
     "output_type": "execute_result"
    }
   ],
   "source": [
    "empirical_means"
   ]
  },
  {
   "cell_type": "code",
   "execution_count": 15,
   "id": "deaf6417",
   "metadata": {},
   "outputs": [
    {
     "data": {
      "text/plain": [
       "71560"
      ]
     },
     "execution_count": 15,
     "metadata": {},
     "output_type": "execute_result"
    }
   ],
   "source": [
    "tot_rew"
   ]
  },
  {
   "cell_type": "markdown",
   "id": "f89ffeca",
   "metadata": {},
   "source": [
    "# Thompson Sampling"
   ]
  },
  {
   "cell_type": "code",
   "execution_count": 45,
   "id": "a9cf91c2",
   "metadata": {},
   "outputs": [],
   "source": [
    "arms = [0.15, 0.23, 0.37, 0.44, 0.5, 0.32, 0.78, 0.21, 0.82, 0.56, 0.34, 0.56, 0.84, 0.76, 0.43, 0.65, 0.73, 0.92, 0.10, 0.89, 0.48, 0.96, 0.60, 0.54, 0.49]\n",
    "horizon = 102400\n",
    "lenn = len(arms)\n",
    "rng = np.random.default_rng(42)\n",
    "successesp1 = np.ones(lenn, dtype='uint32')\n",
    "failuresp1 = np.ones(lenn, dtype='uint32')\n",
    "\n",
    "i=1\n",
    "while i<=horizon:\n",
    "    arm_index = np.argmax(rng.beta(successesp1, failuresp1))\n",
    "    if (rng.binomial(1, arms[arm_index]))==1:\n",
    "        successesp1[arm_index]+=1\n",
    "    else:\n",
    "        failuresp1[arm_index]+=1\n",
    "    i+=1"
   ]
  },
  {
   "cell_type": "code",
   "execution_count": 46,
   "id": "0bfe5d8e",
   "metadata": {},
   "outputs": [
    {
     "data": {
      "text/plain": [
       "100.0"
      ]
     },
     "execution_count": 46,
     "metadata": {},
     "output_type": "execute_result"
    }
   ],
   "source": [
    "0.96*102400 - np.sum(successesp1-1)"
   ]
  },
  {
   "cell_type": "code",
   "execution_count": 17,
   "id": "51fd41b8",
   "metadata": {},
   "outputs": [
    {
     "ename": "NameError",
     "evalue": "name 'successp1' is not defined",
     "output_type": "error",
     "traceback": [
      "\u001b[1;31m---------------------------------------------------------------------------\u001b[0m",
      "\u001b[1;31mNameError\u001b[0m                                 Traceback (most recent call last)",
      "\u001b[1;32m~\\AppData\\Local\\Temp/ipykernel_17856/761472641.py\u001b[0m in \u001b[0;36m<module>\u001b[1;34m\u001b[0m\n\u001b[1;32m----> 1\u001b[1;33m \u001b[0msuccessp1\u001b[0m\u001b[1;33m\u001b[0m\u001b[1;33m\u001b[0m\u001b[0m\n\u001b[0m",
      "\u001b[1;31mNameError\u001b[0m: name 'successp1' is not defined"
     ]
    }
   ],
   "source": [
    "successp1"
   ]
  },
  {
   "cell_type": "markdown",
   "id": "4507c0cf",
   "metadata": {},
   "source": [
    "# task 1 in function form"
   ]
  },
  {
   "cell_type": "code",
   "execution_count": 14,
   "id": "08cb6a41",
   "metadata": {},
   "outputs": [
    {
     "name": "stdout",
     "output_type": "stream",
     "text": [
      "[0.40168067 0.27160494 0.49927422 0.18844221 0.10238095]\n"
     ]
    }
   ],
   "source": [
    "rwds = ep_greeedy([0.4, 0.3, 0.5, 0.2, 0.1], 0, 0.02, 102400)"
   ]
  },
  {
   "cell_type": "markdown",
   "id": "18d2e344",
   "metadata": {},
   "source": [
    "# task 3"
   ]
  },
  {
   "cell_type": "code",
   "execution_count": 215,
   "id": "955bec96",
   "metadata": {},
   "outputs": [],
   "source": [
    "r_support = np.array([0, 0.25, 0.5, 0.75, 1])\n",
    "arms = 3\n",
    "instances = np.zeros((arms, len(r_support)))\n",
    "instances[0] = [0.15, 0.15, 0.4, 0.1, 0.2]\n",
    "instances[1] = [0.1, 0.2, 0.17, 0.43, 0.1]\n",
    "instances[2] = [0.19, 0.41, 0.15, 0.15, 0.1]\n",
    "\n",
    "#instances[0] = [0.1, 0.2, 0.17, 0.43, 0.1]\n",
    "#instances[1] = [0.1, 0.2, 0.17, 0.43, 0.1]\n",
    "#instances[2] = [0.1, 0.2, 0.17, 0.43, 0.1]\n",
    "\n",
    "horizon = 400"
   ]
  },
  {
   "cell_type": "code",
   "execution_count": 197,
   "id": "5977c21f",
   "metadata": {},
   "outputs": [],
   "source": [
    "r_support = np.array([0, 0.25, 0.5, 0.75, 1])\n",
    "arms = 3\n",
    "instances = np.zeros((arms, len(r_support)))\n",
    "instances[0] = [0, 0.6, 0, 0.3, 0.1]\n",
    "instances[1] = [0, 0, 0.8, 0.1, 0.1]\n",
    "instances[2] = [0.2, 0.2, 0.3, 0.2, 0.1]\n",
    "horizon = 25600"
   ]
  },
  {
   "cell_type": "code",
   "execution_count": 216,
   "id": "140d487c",
   "metadata": {},
   "outputs": [],
   "source": [
    "rng = np.random.default_rng(30)"
   ]
  },
  {
   "cell_type": "code",
   "execution_count": 217,
   "id": "92ae1a36",
   "metadata": {},
   "outputs": [],
   "source": [
    "#rng.choice(r_support, p=instances[1])  # arm pulled"
   ]
  },
  {
   "cell_type": "code",
   "execution_count": 218,
   "id": "aaf44ce0",
   "metadata": {},
   "outputs": [],
   "source": [
    "pulls_till_now = np.zeros(arms, dtype='uint32')\n",
    "empirical_means = np.zeros(arms)\n",
    "epsilon=0.1"
   ]
  },
  {
   "cell_type": "code",
   "execution_count": 219,
   "id": "8d0b74f0",
   "metadata": {},
   "outputs": [],
   "source": [
    "i=0\n",
    "cumu_reward=np.zeros(horizon)\n",
    "while i<horizon:\n",
    "    if (rng.binomial(1, epsilon))==1:\n",
    "        arm_index = rng.integers(arms)\n",
    "    else:\n",
    "        arm_index = np.argmax(empirical_means)\n",
    "        \n",
    "    rew_obt = rng.choice(r_support, p=instances[arm_index])\n",
    "    cumu_reward[i]=cumu_reward[i-1]+rew_obt\n",
    "    empirical_means[arm_index] = (empirical_means[arm_index] * pulls_till_now[arm_index] + rew_obt)/(pulls_till_now[arm_index]+1)\n",
    "    pulls_till_now[arm_index]+=1\n",
    "    i+=1\n"
   ]
  },
  {
   "cell_type": "code",
   "execution_count": 220,
   "id": "c966dc5c",
   "metadata": {},
   "outputs": [
    {
     "data": {
      "text/plain": [
       "array([ 25, 353,  22], dtype=uint32)"
      ]
     },
     "execution_count": 220,
     "metadata": {},
     "output_type": "execute_result"
    }
   ],
   "source": [
    "pulls_till_now"
   ]
  },
  {
   "cell_type": "code",
   "execution_count": 221,
   "id": "8eeb3e6c",
   "metadata": {},
   "outputs": [
    {
     "data": {
      "text/plain": [
       "array([0.48      , 0.57436261, 0.45454545])"
      ]
     },
     "execution_count": 221,
     "metadata": {},
     "output_type": "execute_result"
    }
   ],
   "source": [
    "empirical_means"
   ]
  },
  {
   "cell_type": "code",
   "execution_count": 222,
   "id": "6786f77f",
   "metadata": {},
   "outputs": [
    {
     "data": {
      "text/plain": [
       "array([0.5125, 0.5575, 0.39  ])"
      ]
     },
     "execution_count": 222,
     "metadata": {},
     "output_type": "execute_result"
    }
   ],
   "source": [
    "np.sum(instances*r_support, axis=1)"
   ]
  },
  {
   "cell_type": "code",
   "execution_count": 223,
   "id": "0eb11fde",
   "metadata": {},
   "outputs": [
    {
     "data": {
      "text/plain": [
       "-1.75"
      ]
     },
     "execution_count": 223,
     "metadata": {},
     "output_type": "execute_result"
    }
   ],
   "source": [
    "horizon*0.5575 - cumu_reward[-1]"
   ]
  },
  {
   "cell_type": "code",
   "execution_count": 196,
   "id": "0bc67513",
   "metadata": {},
   "outputs": [
    {
     "data": {
      "text/plain": [
       "785.0"
      ]
     },
     "execution_count": 196,
     "metadata": {},
     "output_type": "execute_result"
    }
   ],
   "source": [
    "(735.75+834.25)/2"
   ]
  },
  {
   "cell_type": "code",
   "execution_count": 157,
   "id": "a87ab6bf",
   "metadata": {},
   "outputs": [
    {
     "data": {
      "text/plain": [
       "[<matplotlib.lines.Line2D at 0x13954e0e108>]"
      ]
     },
     "execution_count": 157,
     "metadata": {},
     "output_type": "execute_result"
    },
    {
     "data": {
      "image/png": "[encoded data removed]",
      "text/plain": [
       "<Figure size 432x288 with 1 Axes>"
      ]
     },
     "metadata": {
      "needs_background": "light"
     },
     "output_type": "display_data"
    }
   ],
   "source": [
    "plt.plot(np.arange(horizon), [horizon*0.5575]*horizon)\n",
    "plt.plot(np.arange(horizon), cumu_reward)\n"
   ]
  },
  {
   "cell_type": "markdown",
   "id": "192d79f7",
   "metadata": {},
   "source": [
    "# task 4"
   ]
  },
  {
   "cell_type": "code",
   "execution_count": 172,
   "id": "98d1a72b",
   "metadata": {},
   "outputs": [],
   "source": [
    "threshold = 0.7\n",
    "r_support = np.array([0, 0.25, 0.5, 0.75, 1])\n",
    "threshold_index = np.where(r_support>=threshold)[0][0]\n",
    "rng = np.random.default_rng(0)\n",
    "arms = 3\n",
    "instances = np.zeros((arms, len(r_support)))\n",
    "instances[0] = [0., 0.02, 0., 0.98, 0.]\n",
    "instances[1] = [0.98, 0.02, 0., 0., 0.]\n",
    "instances[2] = [0.01, 0.99, 0, 0, 0]\n",
    "horizon = 10000"
   ]
  },
  {
   "cell_type": "code",
   "execution_count": 51,
   "id": "78b4330c",
   "metadata": {},
   "outputs": [],
   "source": [
    "threshold = 0.6\n",
    "r_support = np.array([0, 0.25, 0.5, 0.75, 1])\n",
    "threshold_index = np.where(r_support>=threshold)[0][0]\n",
    "rng = np.random.default_rng(44)\n",
    "arms = 3\n",
    "instances = np.zeros((arms, len(r_support)))\n",
    "#instances[0] = [0, 0.6, 0, 0.3, 0.1]\n",
    "#instances[1] = [0, 0, 0.8, 0.1, 0.1]\n",
    "#instances[2] = [0.2, 0.2, 0.3, 0.2, 0.1]\n",
    "instances[0] = [0.15, 0.15, 0.4, 0.1, 0.2]\n",
    "instances[1] = [0.1, 0.2, 0.17, 0.43, 0.1]\n",
    "instances[2] = [0.19, 0.41, 0.15, 0.15, 0.1]\n",
    "horizon = 102400"
   ]
  },
  {
   "cell_type": "code",
   "execution_count": 52,
   "id": "fd691da4",
   "metadata": {},
   "outputs": [],
   "source": [
    "pulls_till_now = np.zeros(arms, dtype='uint32')\n",
    "thresh_means = np.zeros(arms)\n",
    "good_pulls = np.zeros(arms, dtype='uint32')\n",
    "epsilon=0.1"
   ]
  },
  {
   "cell_type": "code",
   "execution_count": 53,
   "id": "4ea87170",
   "metadata": {},
   "outputs": [],
   "source": [
    "i=0\n",
    "cumu_reward=np.zeros(horizon)\n",
    "highs=0\n",
    "\n",
    "while i<horizon:\n",
    "    if (rng.binomial(1, epsilon))==1:\n",
    "        arm_index = rng.integers(arms)\n",
    "    else:\n",
    "        arm_index = np.argmax(thresh_means)\n",
    "        \n",
    "    rew_obt = rng.choice(r_support, p=instances[arm_index])\n",
    "    cumu_reward[i]=cumu_reward[i-1]+rew_obt\n",
    "    \n",
    "    if (np.where(r_support == rew_obt)[0][0])>=threshold_index:\n",
    "        good_pulls[arm_index]+=1\n",
    "        highs+=1\n",
    "    pulls_till_now[arm_index]+=1\n",
    "    thresh_means[arm_index] = good_pulls[arm_index]/pulls_till_now[arm_index]\n",
    "    i+=1"
   ]
  },
  {
   "cell_type": "code",
   "execution_count": 54,
   "id": "d36eb27f",
   "metadata": {},
   "outputs": [
    {
     "data": {
      "text/plain": [
       "array([ 3411, 95597,  3392], dtype=uint32)"
      ]
     },
     "execution_count": 54,
     "metadata": {},
     "output_type": "execute_result"
    }
   ],
   "source": [
    "pulls_till_now"
   ]
  },
  {
   "cell_type": "code",
   "execution_count": 55,
   "id": "ec532454",
   "metadata": {},
   "outputs": [
    {
     "data": {
      "text/plain": [
       "array([0.29991205, 0.53035137, 0.25294811])"
      ]
     },
     "execution_count": 55,
     "metadata": {},
     "output_type": "execute_result"
    }
   ],
   "source": [
    "thresh_means"
   ]
  },
  {
   "cell_type": "code",
   "execution_count": 56,
   "id": "c050d0a9",
   "metadata": {},
   "outputs": [
    {
     "data": {
      "text/plain": [
       "52581"
      ]
     },
     "execution_count": 56,
     "metadata": {},
     "output_type": "execute_result"
    }
   ],
   "source": [
    "highs"
   ]
  },
  {
   "cell_type": "code",
   "execution_count": 57,
   "id": "b7366907",
   "metadata": {},
   "outputs": [
    {
     "data": {
      "text/plain": [
       "array([ 1023, 50700,   858], dtype=uint32)"
      ]
     },
     "execution_count": 57,
     "metadata": {},
     "output_type": "execute_result"
    }
   ],
   "source": [
    "good_pulls"
   ]
  },
  {
   "cell_type": "code",
   "execution_count": 1,
   "id": "0598c8d1",
   "metadata": {},
   "outputs": [],
   "source": [
    "import os"
   ]
  },
  {
   "cell_type": "code",
   "execution_count": 2,
   "id": "34882b34",
   "metadata": {},
   "outputs": [
    {
     "data": {
      "text/plain": [
       "'D:\\\\cs747_a1'"
      ]
     },
     "execution_count": 2,
     "metadata": {},
     "output_type": "execute_result"
    }
   ],
   "source": [
    "os.getcwd()"
   ]
  },
  {
   "cell_type": "code",
   "execution_count": 23,
   "id": "154e29c9",
   "metadata": {},
   "outputs": [],
   "source": [
    "f = open('outputs.txt','a')"
   ]
  },
  {
   "cell_type": "code",
   "execution_count": 10,
   "id": "5cd487b9",
   "metadata": {},
   "outputs": [
    {
     "data": {
      "text/plain": [
       "'D:\\\\cs747_a1'"
      ]
     },
     "execution_count": 10,
     "metadata": {},
     "output_type": "execute_result"
    }
   ],
   "source": [
    "os.getcwd()"
   ]
  },
  {
   "cell_type": "code",
   "execution_count": 11,
   "id": "a5e395d3",
   "metadata": {},
   "outputs": [
    {
     "ename": "SyntaxError",
     "evalue": "invalid syntax (Temp/ipykernel_15840/4151792006.py, line 1)",
     "output_type": "error",
     "traceback": [
      "\u001b[1;36m  File \u001b[1;32m\"C:\\Users\\Rishi\\AppData\\Local\\Temp/ipykernel_15840/4151792006.py\"\u001b[1;36m, line \u001b[1;32m1\u001b[0m\n\u001b[1;33m    import\u001b[0m\n\u001b[1;37m          ^\u001b[0m\n\u001b[1;31mSyntaxError\u001b[0m\u001b[1;31m:\u001b[0m invalid syntax\n"
     ]
    }
   ],
   "source": [
    "import\n",
    "for i range(10):\n",
    "    !"
   ]
  },
  {
   "cell_type": "code",
   "execution_count": 24,
   "id": "6c7d1309",
   "metadata": {},
   "outputs": [
    {
     "data": {
      "text/plain": [
       "10"
      ]
     },
     "execution_count": 24,
     "metadata": {},
     "output_type": "execute_result"
    }
   ],
   "source": [
    "f.write('erererere\\n')"
   ]
  },
  {
   "cell_type": "code",
   "execution_count": 25,
   "id": "0fbfe904",
   "metadata": {},
   "outputs": [],
   "source": [
    "f.close()"
   ]
  },
  {
   "cell_type": "markdown",
   "id": "48affea0",
   "metadata": {},
   "source": [
    "# KL-UCB"
   ]
  },
  {
   "cell_type": "code",
   "execution_count": 171,
   "id": "0cb753a2",
   "metadata": {},
   "outputs": [],
   "source": [
    "# use two approaches.. for fixed iterations for finding q.. non fixed (with tolerance level)\n",
    "# machine epsilon?\n",
    "arms = [0.15, 0.23, 0.37, 0.44, 0.5, 0.32, 0.78, 0.21, 0.82, 0.56, 0.34, 0.56, 0.84, 0.76, 0.43, 0.65, 0.73, 0.92, 0.10, 0.89, 0.48, 0.96, 0.60, 0.54, 0.49]\n",
    "lenn=len(arms)\n",
    "horizon = 25600\n",
    "c=3"
   ]
  },
  {
   "cell_type": "code",
   "execution_count": 172,
   "id": "9b31912e",
   "metadata": {},
   "outputs": [
    {
     "name": "stdout",
     "output_type": "stream",
     "text": [
      "1\n",
      "0\n",
      "1\n",
      "0\n",
      "1\n",
      "0\n",
      "1\n",
      "1\n",
      "1\n",
      "0\n",
      "1\n",
      "1\n",
      "1\n",
      "1\n",
      "1\n",
      "0\n",
      "1\n",
      "1\n",
      "0\n",
      "0\n",
      "0\n",
      "1\n",
      "1\n",
      "0\n",
      "1\n",
      "[1. 0. 1. 0. 1. 0. 1. 1. 1. 0. 1. 1. 1. 1. 1. 0. 1. 1. 0. 0. 0. 1. 1. 0.\n",
      " 1.]\n"
     ]
    }
   ],
   "source": [
    "rng = np.random.default_rng(10)\n",
    "empirical_means = np.zeros(lenn)\n",
    "pulls_till_now = np.zeros(lenn, dtype='uint32')\n",
    "eps = (np.finfo(float)).eps\n",
    "\n",
    "i=0\n",
    "while i<max(4, lenn):\n",
    "        curr_rew = rng.binomial(1, arms[i%lenn])\n",
    "        #cumu_reward[i] = cumu_reward[i-1] + curr_rew\n",
    "        empirical_means[i%lenn] = (empirical_means[i%lenn] * pulls_till_now[i%lenn] + curr_rew)/(pulls_till_now[i%lenn]+1)\n",
    "        pulls_till_now[i%lenn]+=1\n",
    "        i+=1\n",
    "        print(curr_rew)\n",
    "    \n",
    "#empirical_means/=5\n",
    "print(empirical_means)"
   ]
  },
  {
   "cell_type": "code",
   "execution_count": 173,
   "id": "bdc81f71",
   "metadata": {},
   "outputs": [],
   "source": [
    "kl_ucbs = np.zeros(lenn)\n",
    "while i<horizon:\n",
    "    #print(i)\n",
    "    rhs_arms = (np.log(i) + c * np.log(np.log(i)))/pulls_till_now\n",
    "    \n",
    "    \n",
    "    # BEGIN CALCULATION OF q's\n",
    "    for z in range(lenn):\n",
    "        rhs = rhs_arms[z]\n",
    "        p = empirical_means[z]\n",
    "        \n",
    "        if p==1:\n",
    "            q = 1\n",
    "            \n",
    "        elif p==0:\n",
    "            left = p\n",
    "            right = 1\n",
    "            \n",
    "            q_candidate = (p+1)/2\n",
    "            kldiv = np.log(1/(1-q_candidate))\n",
    "            \n",
    "            while abs(kldiv-rhs)>0.0001:\n",
    "                #time.sleep(1)\n",
    "                #print(q_candidate, left, right, kldiv, rhs)\n",
    "                if kldiv<rhs:\n",
    "                    left = q_candidate\n",
    "                else:\n",
    "                    right = q_candidate\n",
    "                q_candidate = (left+right)/2\n",
    "                kldiv = np.log(1/(1-q_candidate))\n",
    "                \n",
    "            q = q_candidate\n",
    "            \n",
    "        else:\n",
    "            left = p\n",
    "            right = 1\n",
    "            \n",
    "            q_candidate = (p+1)/2\n",
    "            kldiv = p*np.log(p/q_candidate) + (1-p)*np.log((1-p)/(1-q_candidate))\n",
    "            \n",
    "            while abs(kldiv-rhs)>0.0001:\n",
    "                if kldiv<rhs:\n",
    "                    left = q_candidate\n",
    "                else:\n",
    "                    right = q_candidate\n",
    "                q_candidate = (left+right)/2\n",
    "                kldiv = p*np.log(p/q_candidate) + (1-p)*np.log((1-p)/(1-q_candidate))\n",
    "                \n",
    "            q = q_candidate\n",
    "            \n",
    "        kl_ucbs[z] = q\n",
    "        \n",
    "    arm_index = np.argmax(kl_ucbs)\n",
    "    empirical_means[arm_index] = (empirical_means[arm_index] * pulls_till_now[arm_index] + rng.binomial(1, arms[arm_index]))/(pulls_till_now[arm_index]+1)\n",
    "    pulls_till_now[arm_index]+=1\n",
    "    i+=1"
   ]
  },
  {
   "cell_type": "code",
   "execution_count": 174,
   "id": "e8716bbc",
   "metadata": {},
   "outputs": [
    {
     "data": {
      "text/plain": [
       "237.00000000000364"
      ]
     },
     "execution_count": 174,
     "metadata": {},
     "output_type": "execute_result"
    }
   ],
   "source": [
    "0.96*25600 - sum(pulls_till_now*empirical_means)"
   ]
  },
  {
   "cell_type": "code",
   "execution_count": 101,
   "id": "36dd8c41",
   "metadata": {},
   "outputs": [
    {
     "data": {
      "text/plain": [
       "array([0.25      , 0.79891963])"
      ]
     },
     "execution_count": 101,
     "metadata": {},
     "output_type": "execute_result"
    }
   ],
   "source": [
    "empirical_means"
   ]
  },
  {
   "cell_type": "code",
   "execution_count": 102,
   "id": "2a3abbb8",
   "metadata": {},
   "outputs": [
    {
     "data": {
      "text/plain": [
       "array([    28, 102372], dtype=uint32)"
      ]
     },
     "execution_count": 102,
     "metadata": {},
     "output_type": "execute_result"
    }
   ],
   "source": [
    "pulls_till_now"
   ]
  },
  {
   "cell_type": "code",
   "execution_count": 69,
   "id": "3843684b",
   "metadata": {},
   "outputs": [
    {
     "name": "stdout",
     "output_type": "stream",
     "text": [
      "[1. 0. 1.]\n",
      "[1.00000000e+00 2.22044605e-16 1.00000000e+00]\n"
     ]
    }
   ],
   "source": [
    "print(np.fmin(1-eps , pp))\n",
    "print(np.fmax(eps , pp))"
   ]
  },
  {
   "cell_type": "code",
   "execution_count": 27,
   "id": "978140da",
   "metadata": {},
   "outputs": [
    {
     "data": {
      "text/plain": [
       "array([12.,  4.,  3.])"
      ]
     },
     "execution_count": 27,
     "metadata": {},
     "output_type": "execute_result"
    }
   ],
   "source": [
    "import numpy as np\n",
    "12/np.array([1,3,4])"
   ]
  },
  {
   "cell_type": "code",
   "execution_count": 30,
   "id": "c2b16058",
   "metadata": {},
   "outputs": [
    {
     "data": {
      "text/plain": [
       "array([ 0, -1, -2])"
      ]
     },
     "execution_count": 30,
     "metadata": {},
     "output_type": "execute_result"
    }
   ],
   "source": [
    "1 -np.array([1,2,3])"
   ]
  },
  {
   "cell_type": "code",
   "execution_count": 13,
   "id": "9c211377",
   "metadata": {},
   "outputs": [
    {
     "data": {
      "text/plain": [
       "array([1, 2, 4])"
      ]
     },
     "execution_count": 13,
     "metadata": {},
     "output_type": "execute_result"
    }
   ],
   "source": [
    "a = np.array([1,2,3])\n",
    "b=a\n",
    "b[2] = 4\n",
    "a"
   ]
  },
  {
   "cell_type": "code",
   "execution_count": 154,
   "id": "797b56e7",
   "metadata": {},
   "outputs": [
    {
     "data": {
      "text/plain": [
       "'D:\\\\cs747_a1'"
      ]
     },
     "execution_count": 154,
     "metadata": {},
     "output_type": "execute_result"
    }
   ],
   "source": [
    "import os\n",
    "os.getcwd()"
   ]
  },
  {
   "cell_type": "code",
   "execution_count": 163,
   "id": "fe40818c",
   "metadata": {},
   "outputs": [],
   "source": [
    "f = open('../i-2.txt')"
   ]
  },
  {
   "cell_type": "code",
   "execution_count": 164,
   "id": "66252bee",
   "metadata": {},
   "outputs": [],
   "source": [
    "pp = f.read()"
   ]
  },
  {
   "cell_type": "code",
   "execution_count": 165,
   "id": "4efbbe4f",
   "metadata": {},
   "outputs": [
    {
     "data": {
      "text/plain": [
       "'0 0.25 0.5 0.75 1\\n0.15 0.15 0.4 0.1 0.2\\n0.1 0.2 0.17 0.43 0.1\\n0.19 0.41 0.15 0.15 0.1'"
      ]
     },
     "execution_count": 165,
     "metadata": {},
     "output_type": "execute_result"
    }
   ],
   "source": [
    "pp"
   ]
  },
  {
   "cell_type": "code",
   "execution_count": 168,
   "id": "09f101b8",
   "metadata": {},
   "outputs": [],
   "source": [
    "pp = pp.split('\\n')"
   ]
  },
  {
   "cell_type": "code",
   "execution_count": 170,
   "id": "de335220",
   "metadata": {},
   "outputs": [
    {
     "data": {
      "text/plain": [
       "['0', '0.25', '0.5', '0.75', '1']"
      ]
     },
     "execution_count": 170,
     "metadata": {},
     "output_type": "execute_result"
    }
   ],
   "source": [
    "np.array(pp[0].split())"
   ]
  },
  {
   "cell_type": "code",
   "execution_count": 161,
   "id": "6cc5bda9",
   "metadata": {},
   "outputs": [
    {
     "data": {
      "text/plain": [
       "array([0.15, 0.23, 0.37, 0.44, 0.5 , 0.32, 0.78, 0.21, 0.82, 0.56, 0.34,\n",
       "       0.56, 0.84, 0.76, 0.43, 0.65, 0.73, 0.92, 0.1 , 0.89, 0.48, 0.96,\n",
       "       0.6 , 0.54, 0.49])"
      ]
     },
     "execution_count": 161,
     "metadata": {},
     "output_type": "execute_result"
    }
   ],
   "source": [
    "pp.astype(float)"
   ]
  },
  {
   "cell_type": "code",
   "execution_count": 162,
   "id": "9957fa82",
   "metadata": {},
   "outputs": [
    {
     "data": {
      "text/plain": [
       "array(['0.15', '0.23', '0.37', '0.44', '0.50', '0.32', '0.78', '0.21',\n",
       "       '0.82', '0.56', '0.34', '0.56', '0.84', '0.76', '0.43', '0.65',\n",
       "       '0.73', '0.92', '0.10', '0.89', '0.48', '0.96', '0.60', '0.54',\n",
       "       '0.49'], dtype='<U4')"
      ]
     },
     "execution_count": 162,
     "metadata": {},
     "output_type": "execute_result"
    }
   ],
   "source": [
    "pp"
   ]
  },
  {
   "cell_type": "code",
   "execution_count": 145,
   "id": "a40d748f",
   "metadata": {},
   "outputs": [],
   "source": [
    "import argparse"
   ]
  },
  {
   "cell_type": "code",
   "execution_count": 146,
   "id": "3efde4a6",
   "metadata": {},
   "outputs": [],
   "source": [
    "parser = argparse.ArgumentParser()\n",
    "parser.add_argument()"
   ]
  },
  {
   "cell_type": "code",
   "execution_count": 147,
   "id": "22e2e336",
   "metadata": {},
   "outputs": [],
   "source": [
    "ra  = 'ucb-t1'"
   ]
  },
  {
   "cell_type": "code",
   "execution_count": 148,
   "id": "932bde3b",
   "metadata": {},
   "outputs": [
    {
     "data": {
      "text/plain": [
       "'t1'"
      ]
     },
     "execution_count": 148,
     "metadata": {},
     "output_type": "execute_result"
    }
   ],
   "source": [
    "ra[-2:]"
   ]
  },
  {
   "cell_type": "code",
   "execution_count": 149,
   "id": "f5cdcb61",
   "metadata": {},
   "outputs": [
    {
     "data": {
      "text/plain": [
       "True"
      ]
     },
     "execution_count": 149,
     "metadata": {},
     "output_type": "execute_result"
    }
   ],
   "source": [
    "1.0 == 1"
   ]
  },
  {
   "cell_type": "code",
   "execution_count": null,
   "id": "5a597f29",
   "metadata": {},
   "outputs": [],
   "source": []
  }
 ],
 "metadata": {
  "kernelspec": {
   "display_name": "Python 3 (ipykernel)",
   "language": "python",
   "name": "python3"
  },
  "language_info": {
   "codemirror_mode": {
    "name": "ipython",
    "version": 3
   },
   "file_extension": ".py",
   "mimetype": "text/x-python",
   "name": "python",
   "nbconvert_exporter": "python",
   "pygments_lexer": "ipython3",
   "version": "3.7.10"
  }
 },
 "nbformat": 4,
 "nbformat_minor": 5
}
